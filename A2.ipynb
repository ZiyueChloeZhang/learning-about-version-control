{
 "cells": [
  {
   "cell_type": "markdown",
   "id": "68865b11-de14-4f6b-935f-173e6db54926",
   "metadata": {},
   "source": [
    "# This is a Markdown Cell"
   ]
  },
  {
   "cell_type": "code",
   "execution_count": 2,
   "id": "930f87db-065c-4d8d-bb87-3816c53ff52f",
   "metadata": {},
   "outputs": [
    {
     "name": "stdout",
     "output_type": "stream",
     "text": [
      "this is a code cell\n"
     ]
    }
   ],
   "source": [
    "print(\"this is a code cell\")"
   ]
  }
 ],
 "metadata": {
  "kernelspec": {
   "display_name": "Python 3",
   "language": "python",
   "name": "python3"
  },
  "language_info": {
   "codemirror_mode": {
    "name": "ipython",
    "version": 3
   },
   "file_extension": ".py",
   "mimetype": "text/x-python",
   "name": "python",
   "nbconvert_exporter": "python",
   "pygments_lexer": "ipython3",
   "version": "3.9.5"
  }
 },
 "nbformat": 4,
 "nbformat_minor": 5
}
